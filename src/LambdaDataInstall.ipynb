{
 "cells": [
  {
   "cell_type": "code",
   "execution_count": 2,
   "id": "03d02d16-c3f2-43ae-b29c-e9a498167ecd",
   "metadata": {},
   "outputs": [
    {
     "name": "stdout",
     "output_type": "stream",
     "text": [
      "Please provide your Kaggle credentials to download this dataset. Learn more: http://bit.ly/kaggle-creds\n",
      "Your Kaggle username: "
     ]
    },
    {
     "name": "stdin",
     "output_type": "stream",
     "text": [
      " jackkling\n"
     ]
    },
    {
     "name": "stdout",
     "output_type": "stream",
     "text": [
      "Your Kaggle Key: "
     ]
    },
    {
     "name": "stdin",
     "output_type": "stream",
     "text": [
      " ········\n"
     ]
    },
    {
     "name": "stdout",
     "output_type": "stream",
     "text": [
      "Downloading brats-2021-task1.zip to ./brats-2021-task1\n"
     ]
    },
    {
     "name": "stderr",
     "output_type": "stream",
     "text": [
      "100%|██████████| 12.3G/12.3G [02:57<00:00, 74.2MB/s]\n"
     ]
    },
    {
     "name": "stdout",
     "output_type": "stream",
     "text": [
      "\n"
     ]
    }
   ],
   "source": [
    "import opendatasets as od\n",
    "\n",
    "od.download(\"https://www.kaggle.com/datasets/dschettler8845/brats-2021-task1\")"
   ]
  },
  {
   "cell_type": "code",
   "execution_count": 3,
   "id": "5d57c9a1-f137-4c3b-a050-09318c0ce2f9",
   "metadata": {},
   "outputs": [],
   "source": [
    "!mv brats-2021-task1/BraTS2021_Training_Data.tar ./Brats21/data.tar"
   ]
  },
  {
   "cell_type": "code",
   "execution_count": 9,
   "id": "c9d02c50-f593-40a7-9b9b-7f88083d1ca2",
   "metadata": {},
   "outputs": [],
   "source": [
    "!rm -r brats-2021-task1"
   ]
  },
  {
   "cell_type": "code",
   "execution_count": null,
   "id": "46a72ec7-cc81-4deb-9f31-6a29ef9051a5",
   "metadata": {},
   "outputs": [],
   "source": [
    "!mv ./Brats21/data.tar ./Brats21/data"
   ]
  }
 ],
 "metadata": {
  "kernelspec": {
   "display_name": "Python 3",
   "language": "python",
   "name": "python3"
  },
  "language_info": {
   "codemirror_mode": {
    "name": "ipython",
    "version": 3
   },
   "file_extension": ".py",
   "mimetype": "text/x-python",
   "name": "python",
   "nbconvert_exporter": "python",
   "pygments_lexer": "ipython3",
   "version": "3.8.10"
  }
 },
 "nbformat": 4,
 "nbformat_minor": 5
}
