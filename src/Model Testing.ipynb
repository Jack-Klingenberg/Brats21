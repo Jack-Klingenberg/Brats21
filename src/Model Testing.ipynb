{
 "cells": [
  {
   "cell_type": "code",
   "execution_count": 1,
   "id": "6bcff79e",
   "metadata": {},
   "outputs": [],
   "source": [
    "# Testing the IoU Optimized model"
   ]
  },
  {
   "cell_type": "code",
   "execution_count": 2,
   "id": "6963b5a1",
   "metadata": {},
   "outputs": [
    {
     "name": "stderr",
     "output_type": "stream",
     "text": [
      "2023-04-23 23:28:26.228424: I tensorflow/core/platform/cpu_feature_guard.cc:182] This TensorFlow binary is optimized to use available CPU instructions in performance-critical operations.\n",
      "To enable the following instructions: AVX2 FMA, in other operations, rebuild TensorFlow with the appropriate compiler flags.\n"
     ]
    }
   ],
   "source": [
    "import nibabel as nib \n",
    "import os\n",
    "from sklearn.model_selection import train_test_split\n",
    "from Generators import DataGenerator3D\n",
    "import keras"
   ]
  },
  {
   "cell_type": "code",
   "execution_count": 3,
   "id": "eaf8c434",
   "metadata": {},
   "outputs": [],
   "source": [
    "train_data_path = \"../data\"\n",
    "\n",
    "feaure_directories = [file.path for file in os.scandir(train_data_path) if file.is_dir()]\n",
    "train_directories, test_directories = train_test_split(feaure_directories, test_size=.3, random_state=0)\n",
    "\n",
    "def getids(paths):\n",
    "  x=list()\n",
    "  for i in range(len(paths)):\n",
    "    x.append(paths[i][paths[i].rfind('/')+1:])\n",
    "  return x"
   ]
  },
  {
   "cell_type": "code",
   "execution_count": 4,
   "id": "b5096234",
   "metadata": {},
   "outputs": [],
   "source": [
    "image_size = 128\n",
    "classes = {0 : 'NOT tumor',1 : 'NECROTIC/CORE',2 : 'EDEMA', 3 : 'ENHANCING'}\n",
    "slices = 128 \n",
    "start = 22\n",
    "image_size=128\n",
    "\n",
    "\n",
    "def iou(y_true, y_pred):\n",
    "    y_true = tensorflow.keras.backend.flatten(y_true)\n",
    "    y_pred = tensorflow.keras.backend.flatten(y_pred)\n",
    "    y_true_f = tensorflow.cast(y_true, tensorflow.float32)\n",
    "    y_pred_f = tensorflow.cast(y_pred, tensorflow.float32)\n",
    "    intersection = tensorflow.keras.backend.sum(y_true_f * y_pred_f)\n",
    "    union = tensorflow.keras.backend.sum(y_true_f) + tensorflow.keras.backend.sum(y_pred_f) - intersection\n",
    "    return (intersection + 1e-7) / (union + 1e-7)\n",
    "\n",
    "def iou_loss(y_true, y_pred):\n",
    "    return -1*iou(y_true, y_pred)"
   ]
  },
  {
   "cell_type": "code",
   "execution_count": 5,
   "id": "f3bdb3ae",
   "metadata": {},
   "outputs": [],
   "source": [
    "testing_ids = getids(test_directories)\n",
    "data_generator = DataGenerator3D(testing_ids,slices,start,image_size,train_data_path,verbose=True)"
   ]
  },
  {
   "cell_type": "code",
   "execution_count": 6,
   "id": "9f87adb8",
   "metadata": {},
   "outputs": [],
   "source": [
    "network = keras.models.load_model('../models/vnet_dice.h5', custom_objects={\"iou_loss\": iou_loss})"
   ]
  },
  {
   "cell_type": "code",
   "execution_count": 7,
   "id": "50cf1d1d",
   "metadata": {},
   "outputs": [
    {
     "ename": "NameError",
     "evalue": "name 'plt' is not defined",
     "output_type": "error",
     "traceback": [
      "\u001b[0;31m---------------------------------------------------------------------------\u001b[0m",
      "\u001b[0;31mNameError\u001b[0m                                 Traceback (most recent call last)",
      "Cell \u001b[0;32mIn[7], line 1\u001b[0m\n\u001b[0;32m----> 1\u001b[0m preds \u001b[38;5;241m=\u001b[39m \u001b[43mnetwork\u001b[49m\u001b[38;5;241;43m.\u001b[39;49m\u001b[43mpredict\u001b[49m\u001b[43m(\u001b[49m\u001b[43mdata_generator\u001b[49m\u001b[43m)\u001b[49m\n",
      "File \u001b[0;32m~/C/Brats21/bratsenv/lib/python3.10/site-packages/keras/utils/traceback_utils.py:70\u001b[0m, in \u001b[0;36mfilter_traceback.<locals>.error_handler\u001b[0;34m(*args, **kwargs)\u001b[0m\n\u001b[1;32m     67\u001b[0m     filtered_tb \u001b[38;5;241m=\u001b[39m _process_traceback_frames(e\u001b[38;5;241m.\u001b[39m__traceback__)\n\u001b[1;32m     68\u001b[0m     \u001b[38;5;66;03m# To get the full stack trace, call:\u001b[39;00m\n\u001b[1;32m     69\u001b[0m     \u001b[38;5;66;03m# `tf.debugging.disable_traceback_filtering()`\u001b[39;00m\n\u001b[0;32m---> 70\u001b[0m     \u001b[38;5;28;01mraise\u001b[39;00m e\u001b[38;5;241m.\u001b[39mwith_traceback(filtered_tb) \u001b[38;5;28;01mfrom\u001b[39;00m \u001b[38;5;28;01mNone\u001b[39;00m\n\u001b[1;32m     71\u001b[0m \u001b[38;5;28;01mfinally\u001b[39;00m:\n\u001b[1;32m     72\u001b[0m     \u001b[38;5;28;01mdel\u001b[39;00m filtered_tb\n",
      "File \u001b[0;32m~/C/Brats21/src/Generators.py:34\u001b[0m, in \u001b[0;36mDataGenerator3D.__getitem__\u001b[0;34m(self, index)\u001b[0m\n\u001b[1;32m     32\u001b[0m indexes \u001b[38;5;241m=\u001b[39m \u001b[38;5;28mself\u001b[39m\u001b[38;5;241m.\u001b[39mindexes[index\u001b[38;5;241m*\u001b[39m\u001b[38;5;28mself\u001b[39m\u001b[38;5;241m.\u001b[39mbatch_size:(index\u001b[38;5;241m+\u001b[39m\u001b[38;5;241m1\u001b[39m)\u001b[38;5;241m*\u001b[39m\u001b[38;5;28mself\u001b[39m\u001b[38;5;241m.\u001b[39mbatch_size]\n\u001b[1;32m     33\u001b[0m Batch_ids \u001b[38;5;241m=\u001b[39m [\u001b[38;5;28mself\u001b[39m\u001b[38;5;241m.\u001b[39mlist_IDs[k] \u001b[38;5;28;01mfor\u001b[39;00m k \u001b[38;5;129;01min\u001b[39;00m indexes]\n\u001b[0;32m---> 34\u001b[0m X, y \u001b[38;5;241m=\u001b[39m \u001b[38;5;28;43mself\u001b[39;49m\u001b[38;5;241;43m.\u001b[39;49m\u001b[43m__data_generation\u001b[49m\u001b[43m(\u001b[49m\u001b[43mBatch_ids\u001b[49m\u001b[43m)\u001b[49m\n\u001b[1;32m     36\u001b[0m \u001b[38;5;28;01mreturn\u001b[39;00m X, y\n",
      "File \u001b[0;32m~/C/Brats21/src/Generators.py:61\u001b[0m, in \u001b[0;36mDataGenerator3D.__data_generation\u001b[0;34m(self, ids)\u001b[0m\n\u001b[1;32m     59\u001b[0m \u001b[38;5;28;01mif\u001b[39;00m(\u001b[38;5;28mself\u001b[39m\u001b[38;5;241m.\u001b[39mverbose):\n\u001b[1;32m     60\u001b[0m   layer \u001b[38;5;241m=\u001b[39m flair_image\u001b[38;5;241m.\u001b[39mshape[\u001b[38;5;241m2\u001b[39m]\u001b[38;5;241m/\u001b[39m\u001b[38;5;241m2\u001b[39m\n\u001b[0;32m---> 61\u001b[0m   \u001b[43mplt\u001b[49m\u001b[38;5;241m.\u001b[39mimshow(flair_image[:,:,layer])\n\u001b[1;32m     62\u001b[0m   plt\u001b[38;5;241m.\u001b[39mimshow(ce_image[:,:,layer])\n\u001b[1;32m     63\u001b[0m   plt\u001b[38;5;241m.\u001b[39mimshow(seg_image[:,:,layer])\n",
      "\u001b[0;31mNameError\u001b[0m: name 'plt' is not defined"
     ]
    }
   ],
   "source": [
    "preds = network.predict(data_generator)"
   ]
  },
  {
   "cell_type": "code",
   "execution_count": null,
   "id": "435453de",
   "metadata": {},
   "outputs": [],
   "source": []
  }
 ],
 "metadata": {
  "kernelspec": {
   "display_name": "bratsenv",
   "language": "python",
   "name": "bratsenv"
  },
  "language_info": {
   "codemirror_mode": {
    "name": "ipython",
    "version": 3
   },
   "file_extension": ".py",
   "mimetype": "text/x-python",
   "name": "python",
   "nbconvert_exporter": "python",
   "pygments_lexer": "ipython3",
   "version": "3.10.8"
  }
 },
 "nbformat": 4,
 "nbformat_minor": 5
}
